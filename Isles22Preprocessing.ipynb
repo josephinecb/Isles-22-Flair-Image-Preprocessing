{
 "cells": [
  {
   "cell_type": "code",
   "execution_count": 1,
   "id": "e967d4c2-2182-4c5e-82c9-0fbe4d36d6e6",
   "metadata": {
    "tags": []
   },
   "outputs": [],
   "source": [
    "%matplotlib inline\n",
    "import matplotlib.pyplot as plt\n",
    "import SimpleITK as sitk\n",
    "import torch\n",
    "import torchvision\n",
    "import torch.nn as nn\n",
    "import torchvision.transforms as transforms\n",
    "\n",
    "device = torch.device('cpu')\n",
    "\n",
    "isles22_path = '/home/jbregazzi/Documents/josephine/Datasets/StrokeLesionSegmentation/flair/isles22'"
   ]
  },
  {
   "cell_type": "code",
   "execution_count": null,
   "id": "aa40f4c7-9df5-43c2-9e1f-0aeb4a5fcc6e",
   "metadata": {},
   "outputs": [],
   "source": [
    "def downloadData(path):\n",
    "\n",
    "    transform = transforms.Compose([\n",
    "        transforms.Resize((256,256)),\n",
    "        transforms.ToTensor()\n",
    "    ])\n",
    "    \n",
    "    data = torchvision.datasets(path, \n",
    "                                split='train', \n",
    "                                download=False, \n",
    "                                transform=transform)\n",
    "    \n",
    "    return data\n",
    "\n",
    "\n",
    "data = downloadData(isles22_path)"
   ]
  },
  {
   "cell_type": "code",
   "execution_count": null,
   "id": "670677a3",
   "metadata": {},
   "outputs": [],
   "source": []
  }
 ],
 "metadata": {
  "kernelspec": {
   "display_name": "pytorch",
   "language": "python",
   "name": "pytorch"
  },
  "language_info": {
   "codemirror_mode": {
    "name": "ipython",
    "version": 3
   },
   "file_extension": ".py",
   "mimetype": "text/x-python",
   "name": "python",
   "nbconvert_exporter": "python",
   "pygments_lexer": "ipython3",
   "version": "3.8.16"
  }
 },
 "nbformat": 4,
 "nbformat_minor": 5
}
