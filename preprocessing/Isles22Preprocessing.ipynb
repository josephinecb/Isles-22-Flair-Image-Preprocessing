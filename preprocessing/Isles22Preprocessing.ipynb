{
 "cells": [
  {
   "cell_type": "code",
   "execution_count": 7,
   "id": "e967d4c2-2182-4c5e-82c9-0fbe4d36d6e6",
   "metadata": {
    "tags": []
   },
   "outputs": [
    {
     "ename": "ModuleNotFoundError",
     "evalue": "No module named 'SimpleITK'",
     "output_type": "error",
     "traceback": [
      "\u001b[0;31m---------------------------------------------------------------------------\u001b[0m",
      "\u001b[0;31mModuleNotFoundError\u001b[0m                       Traceback (most recent call last)",
      "Cell \u001b[0;32mIn[7], line 3\u001b[0m\n\u001b[1;32m      1\u001b[0m \u001b[39m#import matplotlib.pyplot as plt\u001b[39;00m\n\u001b[1;32m      2\u001b[0m \u001b[39m#%matplotlib inline\u001b[39;00m\n\u001b[0;32m----> 3\u001b[0m \u001b[39mimport\u001b[39;00m \u001b[39mSimpleITK\u001b[39;00m \u001b[39mas\u001b[39;00m \u001b[39msitk\u001b[39;00m\n\u001b[1;32m      4\u001b[0m \u001b[39mimport\u001b[39;00m \u001b[39mtorch\u001b[39;00m\n\u001b[1;32m      5\u001b[0m \u001b[39mimport\u001b[39;00m \u001b[39mtorchvision\u001b[39;00m\n",
      "\u001b[0;31mModuleNotFoundError\u001b[0m: No module named 'SimpleITK'"
     ]
    }
   ],
   "source": [
    "#import matplotlib.pyplot as plt\n",
    "#%matplotlib inline\n",
    "import SimpleITK as sitk\n",
    "import torch\n",
    "import torchvision\n",
    "import torch.nn as nn\n",
    "import torchvision.transforms as transforms\n",
    "\n",
    "device = torch.device('cpu')\n",
    "\n",
    "isles22_path = '/home/jbregazzi/Documents/josephine/Datasets/StrokeLesionSegmentation/flair/isles22'"
   ]
  },
  {
   "cell_type": "code",
   "execution_count": null,
   "id": "aa40f4c7-9df5-43c2-9e1f-0aeb4a5fcc6e",
   "metadata": {},
   "outputs": [],
   "source": [
    "def downloadData(path):\n",
    "\n",
    "    transform = transforms.Compose([\n",
    "        transforms.Resize((256,256)),\n",
    "        transforms.ToTensor()\n",
    "    ])\n",
    "    \n",
    "    data = torchvision.datasets(path, \n",
    "                                split='train', \n",
    "                                download=False, \n",
    "                                transform=transform)\n",
    "    \n",
    "    return data\n",
    "\n",
    "\n",
    "data = downloadData(isles22_path)"
   ]
  },
  {
   "cell_type": "code",
   "execution_count": null,
   "id": "670677a3",
   "metadata": {},
   "outputs": [],
   "source": []
  }
 ],
 "metadata": {
  "kernelspec": {
   "display_name": "pytorch_p37",
   "language": "python",
   "name": "python3"
  },
  "language_info": {
   "codemirror_mode": {
    "name": "ipython",
    "version": 3
   },
   "file_extension": ".py",
   "mimetype": "text/x-python",
   "name": "python",
   "nbconvert_exporter": "python",
   "pygments_lexer": "ipython3",
   "version": "3.9.6"
  }
 },
 "nbformat": 4,
 "nbformat_minor": 5
}
