{
 "cells": [
  {
   "cell_type": "code",
   "execution_count": 2,
   "id": "d059af4f-f718-4605-b7a2-63b93fcdcac2",
   "metadata": {},
   "outputs": [],
   "source": [
    "import numpy as np\n",
    "import SimpleITK as sitk\n",
    "import os\n",
    "import math\n",
    "%matplotlib inline\n",
    "import matplotlib.pyplot as plt"
   ]
  },
  {
   "cell_type": "code",
   "execution_count": 3,
   "id": "20b799db-eb56-41a4-890f-ba98347bef29",
   "metadata": {},
   "outputs": [],
   "source": [
    "def get_Nifti_files(dirname: str) -> list:\n",
    "    \"\"\" Returns a list of all the nifti files, ending in 'nii' or 'nii.gz' of the \n",
    "        specified directory. \"\"\"\n",
    "    return [f for f in os.listdir(dirname) if f.lower().endswith('.nii') or f.lower().endswith('nii.gz')]"
   ]
  },
  {
   "cell_type": "code",
   "execution_count": 4,
   "id": "0ab8b34d-42d2-4265-85e0-52970c2f489e",
   "metadata": {},
   "outputs": [],
   "source": [
    "def extractBrain(input_filename, output_filename):\n",
    "    !bet $input_filename $output_filename -R -f 0.3 -o\n",
    "    "
   ]
  },
  {
   "cell_type": "code",
   "execution_count": 5,
   "id": "d5097677-3ed5-4a6e-b1e8-d4214a04394f",
   "metadata": {},
   "outputs": [],
   "source": [
    "def getOutputFilename(original: str):\n",
    "    # Should take into account where the file is meant to be saved --> add another input parameter (directory where file should be saved)\n",
    "        # That means this function should only get the new filename and append it to the given directory path that the file should be \n",
    "        # saved.\n",
    "    ''' Returns the output filename for once file has been skull stripped.\n",
    "        Input:\n",
    "            original:   The input filename of the brain, with the skull. \n",
    "                        Input filenames should end with 'nii' or 'nii.gz'.\n",
    "                        Can be the relative or absolute path.\n",
    "                ex. \n",
    "                input: '../data/example_filename_1.nii.gz'\n",
    "                output: '../data/example_filename_1_skull_stripped.nii.gz'\n",
    "    '''\n",
    "    path_components = original.split('/')\n",
    "    filename = path_components[-1]\n",
    "    dir_path = '/'.join(path_components[:-1])\n",
    "    \n",
    "    filename_components = filename.split('.nii')\n",
    "    filename_components[0] = filename_components[0] + '_skull_stripped'\n",
    "    \n",
    "    if(len(path_components) > 1):\n",
    "        dir_path = dir_path + '/'\n",
    "    \n",
    "    return dir_path + '.nii'.join(filename_components)"
   ]
  },
  {
   "cell_type": "code",
   "execution_count": null,
   "id": "8e9ed780-180a-48c6-9cb1-3c289d5ec822",
   "metadata": {},
   "outputs": [],
   "source": [
    "def preprocess(dirname: str) -> None:\n",
    "    ''' Input:\n",
    "        dirname: the absolute or relative path as a string to the directory that holds the images \n",
    "        which will be preprocessed (only Nifti files will be pre-processed)\n",
    "        A sub-directory will be created containing the extracted brains.     '''\n",
    "    \n",
    "    list_of_files = get_Nifti_files(dirname)\n",
    "    save_to = '../' + dirname + '-skull-stripped'\n",
    "    \n",
    "    # Make sure the directory in which the stripped images will be stored exists.\n",
    "    os.makedirs(save_to, exist_ok=True)\n",
    "    \n",
    "    # Extract brain\n",
    "    for filename in list_of_files:\n",
    "        output_filename = save_to + getOutputFilename(filename)\n",
    "        extractBrain(filename, output_filename)\n",
    "        \n",
    "        \n",
    "    \n",
    "    \n",
    "    # normalize, reframe, etc...\n",
    "    \n",
    "    \n",
    "    \n",
    "    "
   ]
  }
 ],
 "metadata": {
  "kernelspec": {
   "display_name": "Python 3 (ipykernel)",
   "language": "python",
   "name": "python3"
  },
  "language_info": {
   "codemirror_mode": {
    "name": "ipython",
    "version": 3
   },
   "file_extension": ".py",
   "mimetype": "text/x-python",
   "name": "python",
   "nbconvert_exporter": "python",
   "pygments_lexer": "ipython3",
   "version": "3.10.9"
  }
 },
 "nbformat": 4,
 "nbformat_minor": 5
}
